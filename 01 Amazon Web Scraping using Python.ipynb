{
 "cells": [
  {
   "cell_type": "markdown",
   "id": "6884038f-04a4-43c0-9df0-73cfa78216ce",
   "metadata": {},
   "source": [
    "# Amazon Web Scraper Project"
   ]
  },
  {
   "cell_type": "code",
   "execution_count": 3,
   "id": "06b852e3-b78c-43b2-8174-369cf1547b55",
   "metadata": {},
   "outputs": [],
   "source": [
    "# import libraries \n",
    "\n",
    "from bs4 import BeautifulSoup\n",
    "import requests\n",
    "import time\n",
    "import datetime"
   ]
  },
  {
   "cell_type": "code",
   "execution_count": 5,
   "id": "4f0e22c0-1fa5-4d47-b141-f9d026d4da9e",
   "metadata": {},
   "outputs": [
    {
     "name": "stdout",
     "output_type": "stream",
     "text": [
      "\n",
      "                    Got Data Funny Business Data Analyst T-Shirt\n",
      "                   \n",
      "\n",
      "                    $15.99 with 6 percent savings\n",
      "                   \n"
     ]
    }
   ],
   "source": [
    "# Connect to Website and pull in data\n",
    "\n",
    "URL = 'https://www.amazon.com/Funny-Data-Systems-Business-Analyst/dp/B07FNW9FGJ/ref=sr_1_3?dchild=1&keywords=data%2Banalyst%2Btshirt&qid=1626655184&sr=8-3&customId=B0752XJYNL&th=1'\n",
    "\n",
    "headers = {\"User-Agent\": \"Mozilla/5.0 (Macintosh; Intel Mac OS X 10_15_7) AppleWebKit/537.36 (KHTML, like Gecko) Chrome/130.0.0.0 Safari/537.36\", \n",
    "    \"X-Amzn-Trace-Id\": \"Root=1-673c0202-2f97080c57ae0b3c19df47fd\", \n",
    "    \"X-Browser-Channel\": \"stable\", \n",
    "    \"X-Browser-Copyright\": \"Copyright 2024 Google LLC. All rights reserved.\", \n",
    "    \"X-Browser-Validation\": \"KXBI39e9fyYnLeM1PQ9gibYV89U=\", \n",
    "    \"X-Browser-Year\": \"2024\"}\n",
    "\n",
    "page = requests.get(URL, headers=headers)\n",
    "\n",
    "soup1 = BeautifulSoup(page.content, \"html.parser\")  #takes raw HTML\n",
    "\n",
    "soup2 = BeautifulSoup(soup1.prettify(), \"html.parser\")  #make things look better\n",
    "# better formatted\n",
    "\n",
    "title = soup2.find(id='productTitle').get_text()\n",
    "\n",
    "price = soup2.find(class_=\"aok-offscreen\").get_text()\n",
    "\n",
    "print(title)\n",
    "print(price)"
   ]
  },
  {
   "cell_type": "code",
   "execution_count": 7,
   "id": "99527acf-cc0c-44c2-80a9-a05cbfa51ef8",
   "metadata": {},
   "outputs": [
    {
     "data": {
      "text/plain": [
       "'15.99'"
      ]
     },
     "execution_count": 7,
     "metadata": {},
     "output_type": "execute_result"
    }
   ],
   "source": [
    "price.strip()[1:6]"
   ]
  },
  {
   "cell_type": "code",
   "execution_count": 9,
   "id": "5549dd79-e755-4551-9c32-21c35dfc662b",
   "metadata": {},
   "outputs": [
    {
     "name": "stdout",
     "output_type": "stream",
     "text": [
      "Got Data Funny Business Data Analyst T-Shirt\n",
      "15.99\n"
     ]
    }
   ],
   "source": [
    "# Clean up the data a little bit\n",
    "\n",
    "price = price.strip()[1:6]\n",
    "title = title.strip()\n",
    "\n",
    "print(title)\n",
    "print(price)"
   ]
  },
  {
   "cell_type": "code",
   "execution_count": 15,
   "id": "e2c16572-f8eb-4d7c-a0db-78b7c3e0c8e4",
   "metadata": {},
   "outputs": [
    {
     "name": "stdout",
     "output_type": "stream",
     "text": [
      "2024-11-20\n"
     ]
    }
   ],
   "source": [
    "# Create a Timestamp for your output to track when data was collected\n",
    "\n",
    "import datetime\n",
    "\n",
    "today = datetime.date.today()\n",
    "\n",
    "print(today)"
   ]
  },
  {
   "cell_type": "code",
   "execution_count": 17,
   "id": "a78e54cc-3b60-4106-ab71-47db9b0074c1",
   "metadata": {},
   "outputs": [],
   "source": [
    "# Create CSV and write headers and data into the file\n",
    "\n",
    "import csv \n",
    "\n",
    "header = ['Title', 'Price', 'Date']\n",
    "data = [title, price, today]\n",
    "\n",
    "\n",
    "# w - write\n",
    "# newline - when we start the data it wouldn't hava a space in between each CSV\n",
    "with open('01.1 AmazonWebScraperDataset.csv', 'w', newline='', encoding='UTF8') as f:\n",
    "    writer = csv.writer(f)\n",
    "    writer.writerow(header)\n",
    "    writer.writerow(data)\n",
    "  "
   ]
  },
  {
   "cell_type": "code",
   "execution_count": 19,
   "id": "f12ec79f-4051-4bc8-9beb-157bcb49d1a6",
   "metadata": {},
   "outputs": [
    {
     "name": "stdout",
     "output_type": "stream",
     "text": [
      "                                          Title  Price        Date\n",
      "0  Got Data Funny Business Data Analyst T-Shirt  15.99  2024-11-20\n"
     ]
    }
   ],
   "source": [
    "# show CSV\n",
    "\n",
    "import pandas as pd\n",
    "\n",
    "df = pd.read_csv(r'/Users/cuckoohcalsado/Documents/A_the Analyst_python/Python_lectures/01.1 AmazonWebScraperDataset.csv')\n",
    "\n",
    "print(df)"
   ]
  },
  {
   "cell_type": "code",
   "execution_count": 36,
   "id": "4b2ed13e-0252-45b9-ad7c-4dedd93ecd85",
   "metadata": {},
   "outputs": [],
   "source": [
    "# Appending data to the csv\n",
    "\n",
    "# a+ -- is how we append the data\n",
    "with open('01.1 AmazonWebScraperDataset.csv', 'a+', newline='', encoding='UTF8') as f:\n",
    "    writer = csv.writer(f)\n",
    "    writer.writerow(data) # writing it to the next nearest free row"
   ]
  },
  {
   "cell_type": "code",
   "execution_count": 38,
   "id": "148aed80-4817-4cbb-b2c8-e460a8b10921",
   "metadata": {},
   "outputs": [
    {
     "name": "stdout",
     "output_type": "stream",
     "text": [
      "                                          Title  Price        Date\n",
      "0  Got Data Funny Business Data Analyst T-Shirt  15.99  2024-11-20\n",
      "1  Got Data Funny Business Data Analyst T-Shirt  15.99  2024-11-20\n",
      "2  Got Data Funny Business Data Analyst T-Shirt  15.99  2024-11-20\n",
      "3  Got Data Funny Business Data Analyst T-Shirt  15.99  2024-11-20\n",
      "4  Got Data Funny Business Data Analyst T-Shirt  15.99  2024-11-20\n",
      "5  Got Data Funny Business Data Analyst T-Shirt  15.99  2024-11-20\n",
      "6  Got Data Funny Business Data Analyst T-Shirt  15.99  2024-11-20\n"
     ]
    }
   ],
   "source": [
    "# run append few more times\n",
    "# run this each after \n",
    "\n",
    "import pandas as pd\n",
    "\n",
    "df = pd.read_csv(r'/Users/cuckoohcalsado/Documents/A_the Analyst_python/Python_lectures/01.1 AmazonWebScraperDataset.csv')\n",
    "\n",
    "print(df)"
   ]
  },
  {
   "cell_type": "code",
   "execution_count": null,
   "id": "025ceb1e-dd11-4ab4-96d2-4c0fa9864cec",
   "metadata": {},
   "outputs": [],
   "source": []
  },
  {
   "cell_type": "markdown",
   "id": "a58d98ac-1eda-4214-a9c4-1c1cb0c1d67e",
   "metadata": {},
   "source": [
    "# Automate to update the price through time"
   ]
  },
  {
   "cell_type": "code",
   "execution_count": 41,
   "id": "99e25524-d620-4e32-b2dd-f1e290fa91be",
   "metadata": {},
   "outputs": [],
   "source": [
    "#Combine all of the above code into one function\n",
    "\n",
    "\n",
    "def check_price():\n",
    "    URL = 'https://www.amazon.com/Funny-Data-Systems-Business-Analyst/dp/B07FNW9FGJ/ref=sr_1_3?dchild=1&keywords=data%2Banalyst%2Btshirt&qid=1626655184&sr=8-3&customId=B0752XJYNL&th=1'\n",
    "\n",
    "    headers = {\"User-Agent\": \"Mozilla/5.0 (Macintosh; Intel Mac OS X 10_15_7) AppleWebKit/537.36 (KHTML, like Gecko) Chrome/130.0.0.0 Safari/537.36\", \n",
    "    \"X-Amzn-Trace-Id\": \"Root=1-673c0202-2f97080c57ae0b3c19df47fd\", \n",
    "    \"X-Browser-Channel\": \"stable\", \n",
    "    \"X-Browser-Copyright\": \"Copyright 2024 Google LLC. All rights reserved.\", \n",
    "    \"X-Browser-Validation\": \"KXBI39e9fyYnLeM1PQ9gibYV89U=\", \n",
    "    \"X-Browser-Year\": \"2024\"}\n",
    "\n",
    "    page = requests.get(URL, headers=headers)\n",
    "\n",
    "    soup1 = BeautifulSoup(page.content, \"html.parser\")\n",
    "\n",
    "    soup2 = BeautifulSoup(soup1.prettify(), \"html.parser\")\n",
    "\n",
    "    title = soup2.find(id='productTitle').get_text()\n",
    "\n",
    "    price = soup2.find(class_=\"aok-offscreen\").get_text()\n",
    "\n",
    "    price = price.strip()[1:6]\n",
    "    title = title.strip()\n",
    "\n",
    "    import datetime\n",
    "\n",
    "    today = datetime.date.today()\n",
    "    \n",
    "    import csv \n",
    "\n",
    "    header = ['Title', 'Price', 'Date']\n",
    "    data = [title, price, today]\n",
    "\n",
    "    with open('01.1 AmazonWebScraperDataset.csv', 'a+', newline='', encoding='UTF8') as f:\n",
    "        writer = csv.writer(f)\n",
    "        writer.writerow(data)\n",
    " "
   ]
  },
  {
   "cell_type": "code",
   "execution_count": 48,
   "id": "c0b4da12-9051-4176-b9e4-faff5649eb65",
   "metadata": {},
   "outputs": [
    {
     "ename": "KeyboardInterrupt",
     "evalue": "",
     "output_type": "error",
     "traceback": [
      "\u001b[0;31m---------------------------------------------------------------------------\u001b[0m",
      "\u001b[0;31mKeyboardInterrupt\u001b[0m                         Traceback (most recent call last)",
      "Cell \u001b[0;32mIn[48], line 6\u001b[0m\n\u001b[1;32m      4\u001b[0m \u001b[38;5;28;01mwhile\u001b[39;00m(\u001b[38;5;28;01mTrue\u001b[39;00m):\n\u001b[1;32m      5\u001b[0m     check_price()\n\u001b[0;32m----> 6\u001b[0m     time\u001b[38;5;241m.\u001b[39msleep(\u001b[38;5;241m5\u001b[39m)\n",
      "\u001b[0;31mKeyboardInterrupt\u001b[0m: "
     ]
    }
   ],
   "source": [
    "# Runs check_price after a set time and inputs data into your CSV\n",
    "#  click -- stop\n",
    "\n",
    "while(True):\n",
    "    check_price()\n",
    "    time.sleep(5)  #every 5 seconds it is going to run through this entire process"
   ]
  },
  {
   "cell_type": "code",
   "execution_count": 50,
   "id": "2eb9a758-e8e4-42e2-a723-60217471ef1b",
   "metadata": {},
   "outputs": [
    {
     "name": "stdout",
     "output_type": "stream",
     "text": [
      "                                           Title  Price        Date\n",
      "0   Got Data Funny Business Data Analyst T-Shirt  15.99  2024-11-20\n",
      "1   Got Data Funny Business Data Analyst T-Shirt  15.99  2024-11-20\n",
      "2   Got Data Funny Business Data Analyst T-Shirt  15.99  2024-11-20\n",
      "3   Got Data Funny Business Data Analyst T-Shirt  15.99  2024-11-20\n",
      "4   Got Data Funny Business Data Analyst T-Shirt  15.99  2024-11-20\n",
      "5   Got Data Funny Business Data Analyst T-Shirt  15.99  2024-11-20\n",
      "6   Got Data Funny Business Data Analyst T-Shirt  15.99  2024-11-20\n",
      "7   Got Data Funny Business Data Analyst T-Shirt  15.99  2024-11-20\n",
      "8   Got Data Funny Business Data Analyst T-Shirt  15.99  2024-11-20\n",
      "9   Got Data Funny Business Data Analyst T-Shirt  15.99  2024-11-20\n",
      "10  Got Data Funny Business Data Analyst T-Shirt  15.99  2024-11-20\n",
      "11  Got Data Funny Business Data Analyst T-Shirt  15.99  2024-11-20\n",
      "12  Got Data Funny Business Data Analyst T-Shirt  15.99  2024-11-20\n",
      "13  Got Data Funny Business Data Analyst T-Shirt  15.99  2024-11-20\n",
      "14  Got Data Funny Business Data Analyst T-Shirt  15.99  2024-11-20\n",
      "15  Got Data Funny Business Data Analyst T-Shirt  15.99  2024-11-20\n",
      "16  Got Data Funny Business Data Analyst T-Shirt  15.99  2024-11-20\n",
      "17  Got Data Funny Business Data Analyst T-Shirt  15.99  2024-11-20\n"
     ]
    }
   ],
   "source": [
    "df = pd.read_csv(r'/Users/cuckoohcalsado/Documents/A_the Analyst_python/Python_lectures/01.1 AmazonWebScraperDataset.csv')\n",
    "\n",
    "print(df)"
   ]
  },
  {
   "cell_type": "code",
   "execution_count": null,
   "id": "a483c85d-1b0f-4a0d-974e-c3105ab1eeae",
   "metadata": {},
   "outputs": [],
   "source": []
  },
  {
   "cell_type": "code",
   "execution_count": null,
   "id": "01c48eb4-8d64-4b54-bbd4-fe4e1e7ca76e",
   "metadata": {},
   "outputs": [],
   "source": []
  }
 ],
 "metadata": {
  "kernelspec": {
   "display_name": "Python 3 (ipykernel)",
   "language": "python",
   "name": "python3"
  },
  "language_info": {
   "codemirror_mode": {
    "name": "ipython",
    "version": 3
   },
   "file_extension": ".py",
   "mimetype": "text/x-python",
   "name": "python",
   "nbconvert_exporter": "python",
   "pygments_lexer": "ipython3",
   "version": "3.12.4"
  }
 },
 "nbformat": 4,
 "nbformat_minor": 5
}
