{
 "cells": [
  {
   "cell_type": "markdown",
   "id": "0f0dceb2-ce06-419e-9daf-c53e7e09d0f8",
   "metadata": {},
   "source": [
    "# BMI"
   ]
  },
  {
   "cell_type": "code",
   "execution_count": null,
   "id": "2215ae30-84a7-4a6e-80ec-7917fcc8750a",
   "metadata": {},
   "outputs": [],
   "source": []
  },
  {
   "cell_type": "code",
   "execution_count": null,
   "id": "87339832-8660-4bc4-90ea-89f6ae6facab",
   "metadata": {},
   "outputs": [],
   "source": [
    "# BMI = (weight in pounds x 703) / height in inches x height in inches)"
   ]
  },
  {
   "cell_type": "code",
   "execution_count": null,
   "id": "4ce9d16e-b96f-453d-8945-a3fa57bf0528",
   "metadata": {},
   "outputs": [],
   "source": [
    "# Under 18.5 - Underweight - Minimal\n",
    "# 18.5 - 24.9 - Normal Weight - Minimal\n",
    "# 25 - 29.9 - Overweight - Increased\n",
    "# 30 - 34.9 - Obese - High\n",
    "# 35 - 39.9 - Severyly Obese - Very High\n",
    "# 40 and over - Morbidity Obese _ Extremely High"
   ]
  },
  {
   "cell_type": "code",
   "execution_count": null,
   "id": "307941d4-c11f-4983-85cb-d7c129d73f9d",
   "metadata": {},
   "outputs": [],
   "source": []
  },
  {
   "cell_type": "code",
   "execution_count": null,
   "id": "0dd8baa9-c012-47c1-a46e-4995b7929dfd",
   "metadata": {},
   "outputs": [],
   "source": [
    "name = input(\"Enter your name: \")\n",
    "\n",
    "weight = int(input(\"Enter your weight in pounds: \"))\n",
    "\n",
    "height = int(input(\"Enter youe height in inches: \"))\n",
    "\n",
    "BMI = (weight * 703) / (height * height)\n",
    "\n",
    "print(BMI)\n",
    "\n",
    "if BMI>0:\n",
    "    if(BMI<18.5):\n",
    "        print(name + \", you are underweight.\")\n",
    "    elif(BMI<=24.9):\n",
    "        print(name + \", you are normal weight.\")\n",
    "    elif(BMI<=29.9):\n",
    "        print(name + \", you are overweight.\")\n",
    "    elif(BMI<=34.9):\n",
    "        print(name + \", you are obese.\")\n",
    "    elif(BMI<=39.9):\n",
    "        print(name + \", you are severly obese.\")\n",
    "    elif(BMI>40):\n",
    "        print(name + \", you are morbidity obese, see a doctor immediately.\")\n",
    "    else:\n",
    "        print(\"Enter valid inputs\")"
   ]
  },
  {
   "cell_type": "code",
   "execution_count": null,
   "id": "670401c6-c1c7-4e23-9edd-919c2a275547",
   "metadata": {},
   "outputs": [],
   "source": []
  }
 ],
 "metadata": {
  "kernelspec": {
   "display_name": "Python 3 (ipykernel)",
   "language": "python",
   "name": "python3"
  },
  "language_info": {
   "codemirror_mode": {
    "name": "ipython",
    "version": 3
   },
   "file_extension": ".py",
   "mimetype": "text/x-python",
   "name": "python",
   "nbconvert_exporter": "python",
   "pygments_lexer": "ipython3",
   "version": "3.12.4"
  }
 },
 "nbformat": 4,
 "nbformat_minor": 5
}
