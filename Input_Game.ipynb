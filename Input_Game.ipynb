{
 "cells": [
  {
   "cell_type": "markdown",
   "id": "912fbe5a-a653-4f53-8bf2-6d7e8b9d1fda",
   "metadata": {},
   "source": [
    "# Password"
   ]
  },
  {
   "cell_type": "code",
   "execution_count": 9,
   "id": "3e6ee69f-c578-4ca1-8145-c4f74f743b12",
   "metadata": {},
   "outputs": [
    {
     "name": "stdin",
     "output_type": "stream",
     "text": [
      "Enter the password: querty12345678\n"
     ]
    },
    {
     "name": "stdout",
     "output_type": "stream",
     "text": [
      "Incorrect paasword. Please try again\n"
     ]
    }
   ],
   "source": [
    "password = \"ABC123\"\n",
    "input_pass = input(\"Enter the password:\")\n",
    "\n",
    "if password==input_pass:\n",
    "    print(\"Correct password!\")\n",
    "else:\n",
    "    print(\"Incorrect paasword. Please try again\")"
   ]
  },
  {
   "cell_type": "code",
   "execution_count": null,
   "id": "79baf9c4-b0b4-493b-8fca-d1be6a9abdc1",
   "metadata": {},
   "outputs": [],
   "source": []
  },
  {
   "cell_type": "code",
   "execution_count": null,
   "id": "22374920-1fb7-456e-b33d-784b42064efe",
   "metadata": {},
   "outputs": [],
   "source": []
  },
  {
   "cell_type": "markdown",
   "id": "8232f40c-ac00-4acd-9f39-8f6d07e22fd9",
   "metadata": {},
   "source": [
    "# Grade Input"
   ]
  },
  {
   "cell_type": "code",
   "execution_count": 6,
   "id": "283ba8c0-8381-4d7b-8ed7-2819e7efe0c5",
   "metadata": {},
   "outputs": [
    {
     "name": "stdin",
     "output_type": "stream",
     "text": [
      "Enter Student's Grade: 77.5\n"
     ]
    },
    {
     "name": "stdout",
     "output_type": "stream",
     "text": [
      "Grade entry is valid\n",
      "Good\n"
     ]
    }
   ],
   "source": [
    "grade = float(input(\"Enter Student's Grade:\"))\n",
    "if grade > 100 or grade < 0:\n",
    "    print(\"Invalid garde entry\")\n",
    "else:\n",
    "    print(\"Grade entry is valid\")\n",
    "    if grade >= 80:\n",
    "        print(\"Outstanding\")\n",
    "    elif grade >= 60:\n",
    "        print(\"Good\")\n",
    "    elif grade >= 40:\n",
    "        print(\"Needs Improvement\")\n",
    "    else:\n",
    "        print(\"Failed\") "
   ]
  },
  {
   "cell_type": "code",
   "execution_count": null,
   "id": "e2e48b24-9fbf-46bb-8007-26e12ce8735d",
   "metadata": {},
   "outputs": [],
   "source": []
  },
  {
   "cell_type": "code",
   "execution_count": null,
   "id": "8791f675-3263-416d-b16d-fcf42e94289f",
   "metadata": {},
   "outputs": [],
   "source": []
  },
  {
   "cell_type": "markdown",
   "id": "4d752974-06dd-4acd-8c17-9a8feeb07095",
   "metadata": {},
   "source": [
    "# Guess the Number"
   ]
  },
  {
   "cell_type": "code",
   "execution_count": 12,
   "id": "01cb1d49-0c31-47f0-9c4f-ba03729b9d4d",
   "metadata": {},
   "outputs": [
    {
     "name": "stdin",
     "output_type": "stream",
     "text": [
      "Guess the Number 56\n"
     ]
    },
    {
     "name": "stdout",
     "output_type": "stream",
     "text": [
      "The number you guessed is smaller.\n",
      "The difference is: 32\n"
     ]
    }
   ],
   "source": [
    "original_num = 88\n",
    "guessed_num = int(input(\"Guess the Number\"))\n",
    "\n",
    "if guessed_num < original_num:\n",
    "    print(\"The number you guessed is smaller.\")\n",
    "elif guessed_num > original_num:\n",
    "    print(\"The number you guessed is larger.\")\n",
    "elif guessed_num == original_num:\n",
    "    print(\"You are correct!\")\n",
    "\n",
    "print(\"The difference is:\", abs(original_num - guessed_num))"
   ]
  },
  {
   "cell_type": "code",
   "execution_count": null,
   "id": "f5b9bdb4-871c-4c68-8bb6-c7de2d3ab2b3",
   "metadata": {},
   "outputs": [],
   "source": []
  },
  {
   "cell_type": "code",
   "execution_count": null,
   "id": "a193bf86-0a8d-49ba-86a8-98f9837a1159",
   "metadata": {},
   "outputs": [],
   "source": []
  }
 ],
 "metadata": {
  "kernelspec": {
   "display_name": "Python 3 (ipykernel)",
   "language": "python",
   "name": "python3"
  },
  "language_info": {
   "codemirror_mode": {
    "name": "ipython",
    "version": 3
   },
   "file_extension": ".py",
   "mimetype": "text/x-python",
   "name": "python",
   "nbconvert_exporter": "python",
   "pygments_lexer": "ipython3",
   "version": "3.12.4"
  }
 },
 "nbformat": 4,
 "nbformat_minor": 5
}
