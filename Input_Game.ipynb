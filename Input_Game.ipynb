{
 "cells": [
  {
   "cell_type": "markdown",
   "id": "912fbe5a-a653-4f53-8bf2-6d7e8b9d1fda",
   "metadata": {},
   "source": [
    "# Password"
   ]
  },
  {
   "cell_type": "code",
   "execution_count": 9,
   "id": "3e6ee69f-c578-4ca1-8145-c4f74f743b12",
   "metadata": {},
   "outputs": [
    {
     "name": "stdin",
     "output_type": "stream",
     "text": [
      "Enter the password: querty12345678\n"
     ]
    },
    {
     "name": "stdout",
     "output_type": "stream",
     "text": [
      "Incorrect paasword. Please try again\n"
     ]
    }
   ],
   "source": [
    "password = \"ABC123\"\n",
    "input_pass = input(\"Enter the password:\")\n",
    "\n",
    "if password==input_pass:\n",
    "    print(\"Correct password!\")\n",
    "else:\n",
    "    print(\"Incorrect paasword. Please try again\")"
   ]
  },
  {
   "cell_type": "code",
   "execution_count": null,
   "id": "79baf9c4-b0b4-493b-8fca-d1be6a9abdc1",
   "metadata": {},
   "outputs": [],
   "source": []
  },
  {
   "cell_type": "code",
   "execution_count": null,
   "id": "22374920-1fb7-456e-b33d-784b42064efe",
   "metadata": {},
   "outputs": [],
   "source": []
  },
  {
   "cell_type": "markdown",
   "id": "8232f40c-ac00-4acd-9f39-8f6d07e22fd9",
   "metadata": {},
   "source": [
    "# Grade Input"
   ]
  },
  {
   "cell_type": "code",
   "execution_count": 6,
   "id": "283ba8c0-8381-4d7b-8ed7-2819e7efe0c5",
   "metadata": {},
   "outputs": [
    {
     "name": "stdin",
     "output_type": "stream",
     "text": [
      "Enter Student's Grade: 77.5\n"
     ]
    },
    {
     "name": "stdout",
     "output_type": "stream",
     "text": [
      "Grade entry is valid\n",
      "Good\n"
     ]
    }
   ],
   "source": [
    "grade = float(input(\"Enter Student's Grade:\"))\n",
    "if grade > 100 or grade < 0:\n",
    "    print(\"Invalid garde entry\")\n",
    "else:\n",
    "    print(\"Grade entry is valid\")\n",
    "    if grade >= 80:\n",
    "        print(\"Outstanding\")\n",
    "    elif grade >= 60:\n",
    "        print(\"Good\")\n",
    "    elif grade >= 40:\n",
    "        print(\"Needs Improvement\")\n",
    "    else:\n",
    "        print(\"Failed\") "
   ]
  },
  {
   "cell_type": "code",
   "execution_count": null,
   "id": "e2e48b24-9fbf-46bb-8007-26e12ce8735d",
   "metadata": {},
   "outputs": [],
   "source": []
  },
  {
   "cell_type": "code",
   "execution_count": null,
   "id": "8791f675-3263-416d-b16d-fcf42e94289f",
   "metadata": {},
   "outputs": [],
   "source": []
  },
  {
   "cell_type": "markdown",
   "id": "4d752974-06dd-4acd-8c17-9a8feeb07095",
   "metadata": {},
   "source": [
    "# Guess the Number"
   ]
  },
  {
   "cell_type": "code",
   "execution_count": 12,
   "id": "01cb1d49-0c31-47f0-9c4f-ba03729b9d4d",
   "metadata": {},
   "outputs": [
    {
     "name": "stdin",
     "output_type": "stream",
     "text": [
      "Guess the Number 56\n"
     ]
    },
    {
     "name": "stdout",
     "output_type": "stream",
     "text": [
      "The number you guessed is smaller.\n",
      "The difference is: 32\n"
     ]
    }
   ],
   "source": [
    "original_num = 88\n",
    "guessed_num = int(input(\"Guess the Number\"))\n",
    "\n",
    "if guessed_num < original_num:\n",
    "    print(\"The number you guessed is smaller.\")\n",
    "elif guessed_num > original_num:\n",
    "    print(\"The number you guessed is larger.\")\n",
    "elif guessed_num == original_num:\n",
    "    print(\"You are correct!\")\n",
    "\n",
    "print(\"The difference is:\", abs(original_num - guessed_num))"
   ]
  },
  {
   "cell_type": "code",
   "execution_count": null,
   "id": "f5b9bdb4-871c-4c68-8bb6-c7de2d3ab2b3",
   "metadata": {},
   "outputs": [],
   "source": []
  },
  {
   "cell_type": "code",
   "execution_count": null,
   "id": "a193bf86-0a8d-49ba-86a8-98f9837a1159",
   "metadata": {},
   "outputs": [],
   "source": []
  },
  {
   "cell_type": "markdown",
   "id": "96d5f0e6-b9c5-4d54-a5a9-ae7fe6cba09c",
   "metadata": {},
   "source": [
    "# GUESS the NUMBER"
   ]
  },
  {
   "cell_type": "code",
   "execution_count": 4,
   "id": "158d5a10-8e16-4cd3-89fd-8f0d80e4779b",
   "metadata": {},
   "outputs": [
    {
     "name": "stdin",
     "output_type": "stream",
     "text": [
      "Enter the Number:  80\n"
     ]
    },
    {
     "name": "stdout",
     "output_type": "stream",
     "text": [
      "Your guessed number is LARGER than the original one\n",
      "You only have  9 tries are left\n"
     ]
    },
    {
     "name": "stdin",
     "output_type": "stream",
     "text": [
      "Enter the Number:  40\n"
     ]
    },
    {
     "name": "stdout",
     "output_type": "stream",
     "text": [
      "Your guessed number is LARGER than the original one\n",
      "You only have  8 tries are left\n"
     ]
    },
    {
     "name": "stdin",
     "output_type": "stream",
     "text": [
      "Enter the Number:  25\n"
     ]
    },
    {
     "name": "stdout",
     "output_type": "stream",
     "text": [
      "Your guessed number is SMALLER than the original one\n",
      "You only have  7 tries are left\n"
     ]
    },
    {
     "name": "stdin",
     "output_type": "stream",
     "text": [
      "Enter the Number:  30\n"
     ]
    },
    {
     "name": "stdout",
     "output_type": "stream",
     "text": [
      "Your guessed number is SMALLER than the original one\n",
      "You only have  6 tries are left\n"
     ]
    },
    {
     "name": "stdin",
     "output_type": "stream",
     "text": [
      "Enter the Number:  35\n"
     ]
    },
    {
     "name": "stdout",
     "output_type": "stream",
     "text": [
      "Your guessed number is SMALLER than the original one\n",
      "You only have  5 tries are left\n"
     ]
    },
    {
     "name": "stdin",
     "output_type": "stream",
     "text": [
      "Enter the Number:  37\n"
     ]
    },
    {
     "name": "stdout",
     "output_type": "stream",
     "text": [
      "Congratulations! You're correct, You WON!!!\n",
      "You did it in  5 tries\n"
     ]
    }
   ],
   "source": [
    "original_num = 37\n",
    "counter = 0\n",
    "final_count = 10\n",
    "\n",
    "while counter<final_count:\n",
    "    guessed_num = int(input(\"Enter the Number: \"))\n",
    "    if guessed_num<original_num:\n",
    "        print(\"Your guessed number is SMALLER than the original one\")\n",
    "    elif guessed_num>original_num:\n",
    "        print(\"Your guessed number is LARGER than the original one\")\n",
    "    else:\n",
    "        print(\"Congratulations! You're correct, You WON!!!\")\n",
    "        print(\"You did it in \", counter, \"tries\")\n",
    "        break\n",
    "\n",
    "    counter+=1\n",
    "    print(\"You only have \", final_count-counter, \"tries are left\")"
   ]
  },
  {
   "cell_type": "code",
   "execution_count": null,
   "id": "4089ff02-21d6-4cfe-ab2a-f0273cfc511a",
   "metadata": {},
   "outputs": [],
   "source": []
  },
  {
   "cell_type": "code",
   "execution_count": null,
   "id": "259b2b18-ba8c-4b09-b138-bc023c426fae",
   "metadata": {},
   "outputs": [],
   "source": []
  },
  {
   "cell_type": "markdown",
   "id": "3abfaf23-d7b3-45ec-a370-5a7e2d7f44c3",
   "metadata": {},
   "source": [
    "# APPLICATION FORM"
   ]
  },
  {
   "cell_type": "code",
   "execution_count": 7,
   "id": "967bbe6f-c9f6-49fd-957d-6c5d5756c520",
   "metadata": {},
   "outputs": [
    {
     "name": "stdin",
     "output_type": "stream",
     "text": [
      "Enter Name:  Dom\n",
      "Enter ID:  123\n",
      "Enter Age:  45\n",
      "Enter Name:  Alec\n",
      "Enter ID:  124\n",
      "Enter Age:  47\n",
      "Enter Name:  Eds\n",
      "Enter ID:  125\n",
      "Enter Age:  35\n"
     ]
    },
    {
     "data": {
      "text/plain": [
       "[{'name': 'Dom', 'id': '123', 'age': 45},\n",
       " {'name': 'Alec', 'id': '124', 'age': 47},\n",
       " {'name': 'Eds', 'id': '125', 'age': 35}]"
      ]
     },
     "execution_count": 7,
     "metadata": {},
     "output_type": "execute_result"
    }
   ],
   "source": [
    "max_entries = 3\n",
    "i = 0\n",
    "students_lst = []\n",
    "\n",
    "while i<max_entries:\n",
    "    temp = {}\n",
    "    NAME = input(\"Enter Name: \")\n",
    "    ID = input(\"Enter ID: \")\n",
    "    AGE = int(input(\"Enter Age: \"))\n",
    "    temp['name'] = NAME\n",
    "    temp['id'] = ID\n",
    "    temp['age'] = AGE\n",
    "\n",
    "    students_lst.append(temp)\n",
    "    i+=1\n",
    "\n",
    "students_lst"
   ]
  },
  {
   "cell_type": "code",
   "execution_count": null,
   "id": "8ffa1f09-2bff-4c2e-a8a3-a80c634c9522",
   "metadata": {},
   "outputs": [],
   "source": []
  },
  {
   "cell_type": "code",
   "execution_count": null,
   "id": "122e2db5-4d35-4c85-8d32-ca015e3605a1",
   "metadata": {},
   "outputs": [],
   "source": []
  },
  {
   "cell_type": "markdown",
   "id": "88578177-a53b-4fee-9882-c99cad78c30c",
   "metadata": {},
   "source": [
    "# APPLICATION with MARKS"
   ]
  },
  {
   "cell_type": "code",
   "execution_count": 16,
   "id": "718470d3-005a-451d-b8c7-64a4c455d339",
   "metadata": {},
   "outputs": [
    {
     "name": "stdin",
     "output_type": "stream",
     "text": [
      "Enter Name:  Dom\n",
      "Enter ID:  123\n",
      "Enter Age:  45\n",
      "Enter marks:  12\n",
      "Enter marks:  12\n",
      "Enter marks:  12\n",
      "Enter Name:  Alec\n",
      "Enter ID:  124\n",
      "Enter Age:  48\n",
      "Enter marks:  10\n",
      "Enter marks:  10\n",
      "Enter marks:  10\n",
      "Enter Name:  Eds\n",
      "Enter ID:  125\n",
      "Enter Age:  35\n",
      "Enter marks:  12\n",
      "Enter marks:  13\n",
      "Enter marks:  10\n"
     ]
    },
    {
     "data": {
      "text/plain": [
       "[{'name': 'Dom', 'id': '123', 'age': 45, 'marks': [12, 12, 12]},\n",
       " {'name': 'Alec', 'id': '124', 'age': 48, 'marks': [10, 10, 10]},\n",
       " {'name': 'Eds', 'id': '125', 'age': 35, 'marks': [12, 13, 10]}]"
      ]
     },
     "execution_count": 16,
     "metadata": {},
     "output_type": "execute_result"
    }
   ],
   "source": [
    "max_entries = 3\n",
    "num_of_subjects = 3\n",
    "i = 0\n",
    "students_lst = []\n",
    "\n",
    "while i<max_entries:\n",
    "    temp = {}\n",
    "    NAME = input(\"Enter Name: \")\n",
    "    ID = input(\"Enter ID: \")\n",
    "    AGE = int(input(\"Enter Age: \"))\n",
    "    temp['name'] = NAME\n",
    "    temp['id'] = ID\n",
    "    temp['age'] = AGE\n",
    "\n",
    "    subject_counter = 0\n",
    "    MARKS = []\n",
    "    while subject_counter<num_of_subjects:\n",
    "        marks = int(input(\"Enter marks: \"))\n",
    "        MARKS.append(marks)\n",
    "        subject_counter+=1\n",
    "\n",
    "    temp['marks'] = MARKS\n",
    "\n",
    "    students_lst.append(temp)\n",
    "    i+=1\n",
    "\n",
    "students_lst"
   ]
  },
  {
   "cell_type": "code",
   "execution_count": null,
   "id": "f1de0568-c32b-4bad-aa86-9748c49f6559",
   "metadata": {},
   "outputs": [],
   "source": []
  }
 ],
 "metadata": {
  "kernelspec": {
   "display_name": "Python 3 (ipykernel)",
   "language": "python",
   "name": "python3"
  },
  "language_info": {
   "codemirror_mode": {
    "name": "ipython",
    "version": 3
   },
   "file_extension": ".py",
   "mimetype": "text/x-python",
   "name": "python",
   "nbconvert_exporter": "python",
   "pygments_lexer": "ipython3",
   "version": "3.12.4"
  }
 },
 "nbformat": 4,
 "nbformat_minor": 5
}
